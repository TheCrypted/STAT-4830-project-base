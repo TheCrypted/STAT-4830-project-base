{
 "cells": [
  {
   "cell_type": "code",
   "execution_count": 1,
   "id": "1a0e2816-b5ce-47ed-803c-95f29cdec1fe",
   "metadata": {},
   "outputs": [
    {
     "name": "stdout",
     "output_type": "stream",
     "text": [
      "Requirement already satisfied: torch in /opt/homebrew/Caskroom/miniconda/base/envs/gnn-env/lib/python3.11/site-packages (2.2.0)\n",
      "Requirement already satisfied: filelock in /opt/homebrew/Caskroom/miniconda/base/envs/gnn-env/lib/python3.11/site-packages (from torch) (3.18.0)\n",
      "Requirement already satisfied: typing-extensions>=4.8.0 in /opt/homebrew/Caskroom/miniconda/base/envs/gnn-env/lib/python3.11/site-packages (from torch) (4.13.2)\n",
      "Requirement already satisfied: sympy in /opt/homebrew/Caskroom/miniconda/base/envs/gnn-env/lib/python3.11/site-packages (from torch) (1.13.1)\n",
      "Requirement already satisfied: networkx in /opt/homebrew/Caskroom/miniconda/base/envs/gnn-env/lib/python3.11/site-packages (from torch) (3.4.2)\n",
      "Requirement already satisfied: jinja2 in /opt/homebrew/Caskroom/miniconda/base/envs/gnn-env/lib/python3.11/site-packages (from torch) (3.1.6)\n",
      "Requirement already satisfied: fsspec in /opt/homebrew/Caskroom/miniconda/base/envs/gnn-env/lib/python3.11/site-packages (from torch) (2025.3.2)\n",
      "Requirement already satisfied: MarkupSafe>=2.0 in /opt/homebrew/Caskroom/miniconda/base/envs/gnn-env/lib/python3.11/site-packages (from jinja2->torch) (3.0.2)\n",
      "Requirement already satisfied: mpmath<1.4,>=1.1.0 in /opt/homebrew/Caskroom/miniconda/base/envs/gnn-env/lib/python3.11/site-packages (from sympy->torch) (1.3.0)\n",
      "Requirement already satisfied: osmnx in /opt/homebrew/Caskroom/miniconda/base/envs/gnn-env/lib/python3.11/site-packages (2.0.2)\n",
      "Requirement already satisfied: geopandas>=1.0 in /opt/homebrew/Caskroom/miniconda/base/envs/gnn-env/lib/python3.11/site-packages (from osmnx) (1.0.1)\n",
      "Requirement already satisfied: networkx>=2.5 in /opt/homebrew/Caskroom/miniconda/base/envs/gnn-env/lib/python3.11/site-packages (from osmnx) (3.4.2)\n",
      "Requirement already satisfied: numpy>=1.22 in /opt/homebrew/Caskroom/miniconda/base/envs/gnn-env/lib/python3.11/site-packages (from osmnx) (2.2.5)\n",
      "Requirement already satisfied: pandas>=1.4 in /opt/homebrew/Caskroom/miniconda/base/envs/gnn-env/lib/python3.11/site-packages (from osmnx) (2.2.3)\n",
      "Requirement already satisfied: requests>=2.27 in /opt/homebrew/Caskroom/miniconda/base/envs/gnn-env/lib/python3.11/site-packages (from osmnx) (2.32.3)\n",
      "Requirement already satisfied: shapely>=2.0 in /opt/homebrew/Caskroom/miniconda/base/envs/gnn-env/lib/python3.11/site-packages (from osmnx) (2.1.0)\n",
      "Requirement already satisfied: pyogrio>=0.7.2 in /opt/homebrew/Caskroom/miniconda/base/envs/gnn-env/lib/python3.11/site-packages (from geopandas>=1.0->osmnx) (0.10.0)\n",
      "Requirement already satisfied: packaging in /opt/homebrew/Caskroom/miniconda/base/envs/gnn-env/lib/python3.11/site-packages (from geopandas>=1.0->osmnx) (25.0)\n",
      "Requirement already satisfied: pyproj>=3.3.0 in /opt/homebrew/Caskroom/miniconda/base/envs/gnn-env/lib/python3.11/site-packages (from geopandas>=1.0->osmnx) (3.7.1)\n",
      "Requirement already satisfied: python-dateutil>=2.8.2 in /opt/homebrew/Caskroom/miniconda/base/envs/gnn-env/lib/python3.11/site-packages (from pandas>=1.4->osmnx) (2.9.0.post0)\n",
      "Requirement already satisfied: pytz>=2020.1 in /opt/homebrew/Caskroom/miniconda/base/envs/gnn-env/lib/python3.11/site-packages (from pandas>=1.4->osmnx) (2025.2)\n",
      "Requirement already satisfied: tzdata>=2022.7 in /opt/homebrew/Caskroom/miniconda/base/envs/gnn-env/lib/python3.11/site-packages (from pandas>=1.4->osmnx) (2025.2)\n",
      "Requirement already satisfied: charset-normalizer<4,>=2 in /opt/homebrew/Caskroom/miniconda/base/envs/gnn-env/lib/python3.11/site-packages (from requests>=2.27->osmnx) (3.4.1)\n",
      "Requirement already satisfied: idna<4,>=2.5 in /opt/homebrew/Caskroom/miniconda/base/envs/gnn-env/lib/python3.11/site-packages (from requests>=2.27->osmnx) (3.10)\n",
      "Requirement already satisfied: urllib3<3,>=1.21.1 in /opt/homebrew/Caskroom/miniconda/base/envs/gnn-env/lib/python3.11/site-packages (from requests>=2.27->osmnx) (2.4.0)\n",
      "Requirement already satisfied: certifi>=2017.4.17 in /opt/homebrew/Caskroom/miniconda/base/envs/gnn-env/lib/python3.11/site-packages (from requests>=2.27->osmnx) (2025.1.31)\n",
      "Requirement already satisfied: six>=1.5 in /opt/homebrew/Caskroom/miniconda/base/envs/gnn-env/lib/python3.11/site-packages (from python-dateutil>=2.8.2->pandas>=1.4->osmnx) (1.17.0)\n",
      "Requirement already satisfied: torch_geometric in /opt/homebrew/Caskroom/miniconda/base/envs/gnn-env/lib/python3.11/site-packages (2.6.1)\n",
      "Requirement already satisfied: aiohttp in /opt/homebrew/Caskroom/miniconda/base/envs/gnn-env/lib/python3.11/site-packages (from torch_geometric) (3.11.18)\n",
      "Requirement already satisfied: fsspec in /opt/homebrew/Caskroom/miniconda/base/envs/gnn-env/lib/python3.11/site-packages (from torch_geometric) (2025.3.2)\n",
      "Requirement already satisfied: jinja2 in /opt/homebrew/Caskroom/miniconda/base/envs/gnn-env/lib/python3.11/site-packages (from torch_geometric) (3.1.6)\n",
      "Requirement already satisfied: numpy in /opt/homebrew/Caskroom/miniconda/base/envs/gnn-env/lib/python3.11/site-packages (from torch_geometric) (2.2.5)\n",
      "Requirement already satisfied: psutil>=5.8.0 in /opt/homebrew/Caskroom/miniconda/base/envs/gnn-env/lib/python3.11/site-packages (from torch_geometric) (7.0.0)\n",
      "Requirement already satisfied: pyparsing in /opt/homebrew/Caskroom/miniconda/base/envs/gnn-env/lib/python3.11/site-packages (from torch_geometric) (3.2.3)\n",
      "Requirement already satisfied: requests in /opt/homebrew/Caskroom/miniconda/base/envs/gnn-env/lib/python3.11/site-packages (from torch_geometric) (2.32.3)\n",
      "Requirement already satisfied: tqdm in /opt/homebrew/Caskroom/miniconda/base/envs/gnn-env/lib/python3.11/site-packages (from torch_geometric) (4.67.1)\n",
      "Requirement already satisfied: aiohappyeyeballs>=2.3.0 in /opt/homebrew/Caskroom/miniconda/base/envs/gnn-env/lib/python3.11/site-packages (from aiohttp->torch_geometric) (2.6.1)\n",
      "Requirement already satisfied: aiosignal>=1.1.2 in /opt/homebrew/Caskroom/miniconda/base/envs/gnn-env/lib/python3.11/site-packages (from aiohttp->torch_geometric) (1.3.2)\n",
      "Requirement already satisfied: attrs>=17.3.0 in /opt/homebrew/Caskroom/miniconda/base/envs/gnn-env/lib/python3.11/site-packages (from aiohttp->torch_geometric) (25.3.0)\n",
      "Requirement already satisfied: frozenlist>=1.1.1 in /opt/homebrew/Caskroom/miniconda/base/envs/gnn-env/lib/python3.11/site-packages (from aiohttp->torch_geometric) (1.6.0)\n",
      "Requirement already satisfied: multidict<7.0,>=4.5 in /opt/homebrew/Caskroom/miniconda/base/envs/gnn-env/lib/python3.11/site-packages (from aiohttp->torch_geometric) (6.4.3)\n",
      "Requirement already satisfied: propcache>=0.2.0 in /opt/homebrew/Caskroom/miniconda/base/envs/gnn-env/lib/python3.11/site-packages (from aiohttp->torch_geometric) (0.3.1)\n",
      "Requirement already satisfied: yarl<2.0,>=1.17.0 in /opt/homebrew/Caskroom/miniconda/base/envs/gnn-env/lib/python3.11/site-packages (from aiohttp->torch_geometric) (1.20.0)\n",
      "Requirement already satisfied: MarkupSafe>=2.0 in /opt/homebrew/Caskroom/miniconda/base/envs/gnn-env/lib/python3.11/site-packages (from jinja2->torch_geometric) (3.0.2)\n",
      "Requirement already satisfied: charset-normalizer<4,>=2 in /opt/homebrew/Caskroom/miniconda/base/envs/gnn-env/lib/python3.11/site-packages (from requests->torch_geometric) (3.4.1)\n",
      "Requirement already satisfied: idna<4,>=2.5 in /opt/homebrew/Caskroom/miniconda/base/envs/gnn-env/lib/python3.11/site-packages (from requests->torch_geometric) (3.10)\n",
      "Requirement already satisfied: urllib3<3,>=1.21.1 in /opt/homebrew/Caskroom/miniconda/base/envs/gnn-env/lib/python3.11/site-packages (from requests->torch_geometric) (2.4.0)\n",
      "Requirement already satisfied: certifi>=2017.4.17 in /opt/homebrew/Caskroom/miniconda/base/envs/gnn-env/lib/python3.11/site-packages (from requests->torch_geometric) (2025.1.31)\n",
      "Requirement already satisfied: pandas in /opt/homebrew/Caskroom/miniconda/base/envs/gnn-env/lib/python3.11/site-packages (2.2.3)\n",
      "Requirement already satisfied: numpy in /opt/homebrew/Caskroom/miniconda/base/envs/gnn-env/lib/python3.11/site-packages (2.2.5)\n",
      "Requirement already satisfied: osmnx in /opt/homebrew/Caskroom/miniconda/base/envs/gnn-env/lib/python3.11/site-packages (2.0.2)\n",
      "Requirement already satisfied: geopandas in /opt/homebrew/Caskroom/miniconda/base/envs/gnn-env/lib/python3.11/site-packages (1.0.1)\n",
      "Requirement already satisfied: shapely in /opt/homebrew/Caskroom/miniconda/base/envs/gnn-env/lib/python3.11/site-packages (2.1.0)\n",
      "Requirement already satisfied: matplotlib in /opt/homebrew/Caskroom/miniconda/base/envs/gnn-env/lib/python3.11/site-packages (3.10.1)\n",
      "Requirement already satisfied: scikit-learn in /opt/homebrew/Caskroom/miniconda/base/envs/gnn-env/lib/python3.11/site-packages (1.6.1)\n",
      "Collecting pathlib\n",
      "  Downloading pathlib-1.0.1-py3-none-any.whl.metadata (5.1 kB)\n",
      "Collecting gymnasium\n",
      "  Downloading gymnasium-1.1.1-py3-none-any.whl.metadata (9.4 kB)\n",
      "Requirement already satisfied: torch in /opt/homebrew/Caskroom/miniconda/base/envs/gnn-env/lib/python3.11/site-packages (2.2.0)\n",
      "Requirement already satisfied: torch_geometric in /opt/homebrew/Caskroom/miniconda/base/envs/gnn-env/lib/python3.11/site-packages (2.6.1)\n",
      "Requirement already satisfied: torch_sparse in /opt/homebrew/Caskroom/miniconda/base/envs/gnn-env/lib/python3.11/site-packages (0.6.18)\n",
      "Requirement already satisfied: torch_scatter in /opt/homebrew/Caskroom/miniconda/base/envs/gnn-env/lib/python3.11/site-packages (2.1.2)\n",
      "Requirement already satisfied: python-dateutil>=2.8.2 in /opt/homebrew/Caskroom/miniconda/base/envs/gnn-env/lib/python3.11/site-packages (from pandas) (2.9.0.post0)\n",
      "Requirement already satisfied: pytz>=2020.1 in /opt/homebrew/Caskroom/miniconda/base/envs/gnn-env/lib/python3.11/site-packages (from pandas) (2025.2)\n",
      "Requirement already satisfied: tzdata>=2022.7 in /opt/homebrew/Caskroom/miniconda/base/envs/gnn-env/lib/python3.11/site-packages (from pandas) (2025.2)\n",
      "Requirement already satisfied: networkx>=2.5 in /opt/homebrew/Caskroom/miniconda/base/envs/gnn-env/lib/python3.11/site-packages (from osmnx) (3.4.2)\n",
      "Requirement already satisfied: requests>=2.27 in /opt/homebrew/Caskroom/miniconda/base/envs/gnn-env/lib/python3.11/site-packages (from osmnx) (2.32.3)\n",
      "Requirement already satisfied: pyogrio>=0.7.2 in /opt/homebrew/Caskroom/miniconda/base/envs/gnn-env/lib/python3.11/site-packages (from geopandas) (0.10.0)\n",
      "Requirement already satisfied: packaging in /opt/homebrew/Caskroom/miniconda/base/envs/gnn-env/lib/python3.11/site-packages (from geopandas) (25.0)\n",
      "Requirement already satisfied: pyproj>=3.3.0 in /opt/homebrew/Caskroom/miniconda/base/envs/gnn-env/lib/python3.11/site-packages (from geopandas) (3.7.1)\n",
      "Requirement already satisfied: contourpy>=1.0.1 in /opt/homebrew/Caskroom/miniconda/base/envs/gnn-env/lib/python3.11/site-packages (from matplotlib) (1.3.2)\n",
      "Requirement already satisfied: cycler>=0.10 in /opt/homebrew/Caskroom/miniconda/base/envs/gnn-env/lib/python3.11/site-packages (from matplotlib) (0.12.1)\n",
      "Requirement already satisfied: fonttools>=4.22.0 in /opt/homebrew/Caskroom/miniconda/base/envs/gnn-env/lib/python3.11/site-packages (from matplotlib) (4.57.0)\n",
      "Requirement already satisfied: kiwisolver>=1.3.1 in /opt/homebrew/Caskroom/miniconda/base/envs/gnn-env/lib/python3.11/site-packages (from matplotlib) (1.4.8)\n",
      "Requirement already satisfied: pillow>=8 in /opt/homebrew/Caskroom/miniconda/base/envs/gnn-env/lib/python3.11/site-packages (from matplotlib) (11.2.1)\n",
      "Requirement already satisfied: pyparsing>=2.3.1 in /opt/homebrew/Caskroom/miniconda/base/envs/gnn-env/lib/python3.11/site-packages (from matplotlib) (3.2.3)\n",
      "Requirement already satisfied: scipy>=1.6.0 in /opt/homebrew/Caskroom/miniconda/base/envs/gnn-env/lib/python3.11/site-packages (from scikit-learn) (1.15.2)\n",
      "Requirement already satisfied: joblib>=1.2.0 in /opt/homebrew/Caskroom/miniconda/base/envs/gnn-env/lib/python3.11/site-packages (from scikit-learn) (1.4.2)\n",
      "Requirement already satisfied: threadpoolctl>=3.1.0 in /opt/homebrew/Caskroom/miniconda/base/envs/gnn-env/lib/python3.11/site-packages (from scikit-learn) (3.6.0)\n",
      "Collecting cloudpickle>=1.2.0 (from gymnasium)\n",
      "  Downloading cloudpickle-3.1.1-py3-none-any.whl.metadata (7.1 kB)\n",
      "Requirement already satisfied: typing-extensions>=4.3.0 in /opt/homebrew/Caskroom/miniconda/base/envs/gnn-env/lib/python3.11/site-packages (from gymnasium) (4.13.2)\n",
      "Collecting farama-notifications>=0.0.1 (from gymnasium)\n",
      "  Downloading Farama_Notifications-0.0.4-py3-none-any.whl.metadata (558 bytes)\n",
      "Requirement already satisfied: filelock in /opt/homebrew/Caskroom/miniconda/base/envs/gnn-env/lib/python3.11/site-packages (from torch) (3.18.0)\n",
      "Requirement already satisfied: sympy in /opt/homebrew/Caskroom/miniconda/base/envs/gnn-env/lib/python3.11/site-packages (from torch) (1.13.1)\n",
      "Requirement already satisfied: jinja2 in /opt/homebrew/Caskroom/miniconda/base/envs/gnn-env/lib/python3.11/site-packages (from torch) (3.1.6)\n",
      "Requirement already satisfied: fsspec in /opt/homebrew/Caskroom/miniconda/base/envs/gnn-env/lib/python3.11/site-packages (from torch) (2025.3.2)\n",
      "Requirement already satisfied: aiohttp in /opt/homebrew/Caskroom/miniconda/base/envs/gnn-env/lib/python3.11/site-packages (from torch_geometric) (3.11.18)\n",
      "Requirement already satisfied: psutil>=5.8.0 in /opt/homebrew/Caskroom/miniconda/base/envs/gnn-env/lib/python3.11/site-packages (from torch_geometric) (7.0.0)\n",
      "Requirement already satisfied: tqdm in /opt/homebrew/Caskroom/miniconda/base/envs/gnn-env/lib/python3.11/site-packages (from torch_geometric) (4.67.1)\n",
      "Requirement already satisfied: certifi in /opt/homebrew/Caskroom/miniconda/base/envs/gnn-env/lib/python3.11/site-packages (from pyogrio>=0.7.2->geopandas) (2025.1.31)\n",
      "Requirement already satisfied: six>=1.5 in /opt/homebrew/Caskroom/miniconda/base/envs/gnn-env/lib/python3.11/site-packages (from python-dateutil>=2.8.2->pandas) (1.17.0)\n",
      "Requirement already satisfied: charset-normalizer<4,>=2 in /opt/homebrew/Caskroom/miniconda/base/envs/gnn-env/lib/python3.11/site-packages (from requests>=2.27->osmnx) (3.4.1)\n",
      "Requirement already satisfied: idna<4,>=2.5 in /opt/homebrew/Caskroom/miniconda/base/envs/gnn-env/lib/python3.11/site-packages (from requests>=2.27->osmnx) (3.10)\n",
      "Requirement already satisfied: urllib3<3,>=1.21.1 in /opt/homebrew/Caskroom/miniconda/base/envs/gnn-env/lib/python3.11/site-packages (from requests>=2.27->osmnx) (2.4.0)\n",
      "Requirement already satisfied: aiohappyeyeballs>=2.3.0 in /opt/homebrew/Caskroom/miniconda/base/envs/gnn-env/lib/python3.11/site-packages (from aiohttp->torch_geometric) (2.6.1)\n",
      "Requirement already satisfied: aiosignal>=1.1.2 in /opt/homebrew/Caskroom/miniconda/base/envs/gnn-env/lib/python3.11/site-packages (from aiohttp->torch_geometric) (1.3.2)\n",
      "Requirement already satisfied: attrs>=17.3.0 in /opt/homebrew/Caskroom/miniconda/base/envs/gnn-env/lib/python3.11/site-packages (from aiohttp->torch_geometric) (25.3.0)\n",
      "Requirement already satisfied: frozenlist>=1.1.1 in /opt/homebrew/Caskroom/miniconda/base/envs/gnn-env/lib/python3.11/site-packages (from aiohttp->torch_geometric) (1.6.0)\n",
      "Requirement already satisfied: multidict<7.0,>=4.5 in /opt/homebrew/Caskroom/miniconda/base/envs/gnn-env/lib/python3.11/site-packages (from aiohttp->torch_geometric) (6.4.3)\n",
      "Requirement already satisfied: propcache>=0.2.0 in /opt/homebrew/Caskroom/miniconda/base/envs/gnn-env/lib/python3.11/site-packages (from aiohttp->torch_geometric) (0.3.1)\n",
      "Requirement already satisfied: yarl<2.0,>=1.17.0 in /opt/homebrew/Caskroom/miniconda/base/envs/gnn-env/lib/python3.11/site-packages (from aiohttp->torch_geometric) (1.20.0)\n",
      "Requirement already satisfied: MarkupSafe>=2.0 in /opt/homebrew/Caskroom/miniconda/base/envs/gnn-env/lib/python3.11/site-packages (from jinja2->torch) (3.0.2)\n",
      "Requirement already satisfied: mpmath<1.4,>=1.1.0 in /opt/homebrew/Caskroom/miniconda/base/envs/gnn-env/lib/python3.11/site-packages (from sympy->torch) (1.3.0)\n",
      "Downloading pathlib-1.0.1-py3-none-any.whl (14 kB)\n",
      "Downloading gymnasium-1.1.1-py3-none-any.whl (965 kB)\n",
      "\u001b[2K   \u001b[90m━━━━━━━━━━━━━━━━━━━━━━━━━━━━━━━━━━━━━━━━\u001b[0m \u001b[32m965.4/965.4 kB\u001b[0m \u001b[31m15.0 MB/s\u001b[0m eta \u001b[36m0:00:00\u001b[0m\n",
      "\u001b[?25hDownloading cloudpickle-3.1.1-py3-none-any.whl (20 kB)\n",
      "Downloading Farama_Notifications-0.0.4-py3-none-any.whl (2.5 kB)\n",
      "Installing collected packages: pathlib, farama-notifications, cloudpickle, gymnasium\n",
      "Successfully installed cloudpickle-3.1.1 farama-notifications-0.0.4 gymnasium-1.1.1 pathlib-1.0.1\n"
     ]
    }
   ],
   "source": [
    "!pip install torch\n",
    "!pip install osmnx\n",
    "!pip install torch_geometric\n",
    "!pip install pandas numpy osmnx geopandas shapely matplotlib scikit-learn pathlib gymnasium torch torch_geometric torch_sparse torch_scatter"
   ]
  },
  {
   "cell_type": "code",
   "execution_count": 3,
   "id": "2a295fda-2aef-41c9-a289-6fb4d5c61d9b",
   "metadata": {},
   "outputs": [],
   "source": [
    "import glob\n",
    "import warnings\n",
    "import time\n",
    "from tqdm import tqdm\n",
    "\n",
    "import pandas as pd\n",
    "import numpy as np\n",
    "import osmnx as ox\n",
    "import networkx as nx\n",
    "\n",
    "import torch\n",
    "import torch.nn as nn\n",
    "import torch.nn.functional as F\n",
    "from torch.utils.data import Dataset, DataLoader\n",
    "\n",
    "from torch_geometric.data import Data\n",
    "from torch_geometric.nn import GINEConv\n",
    "\n",
    "from sklearn.model_selection import train_test_split\n",
    "\n",
    "from torch.nn import Linear, ReLU, Dropout, LayerNorm, GRU"
   ]
  },
  {
   "cell_type": "code",
   "execution_count": 5,
   "id": "25ed1ae6-861f-4587-b62c-5d4f7324c474",
   "metadata": {},
   "outputs": [
    {
     "name": "stdout",
     "output_type": "stream",
     "text": [
      "Using device: cpu\n",
      "Loaded EV data: 22436808 rows\n"
     ]
    }
   ],
   "source": [
    "import glob\n",
    "import warnings\n",
    "import torch\n",
    "import pandas as pd\n",
    "import numpy as np\n",
    "import os\n",
    "\n",
    "# Ignore specific runtime warnings\n",
    "warnings.filterwarnings(\"ignore\", message=\"invalid value encountered in cast\", category=RuntimeWarning)\n",
    "\n",
    "# Set device\n",
    "DEVICE = 'cuda' if torch.cuda.is_available() else 'cpu'\n",
    "print(f\"Using device: {DEVICE}\")\n",
    "\n",
    "# Columns to load\n",
    "temp_cols = [\n",
    "    'VehId','Trip','Timestamp(ms)',\n",
    "    'Latitude[deg]','Longitude[deg]',\n",
    "    'Vehicle Speed[km/h]','MAF[g/sec]',\n",
    "    'Engine RPM[RPM]','Absolute Load[%]',\n",
    "    'Speed Limit[km/h]'\n",
    "]\n",
    "chunksize = 200_000\n",
    "\n",
    "# Lists to collect stats and cleaned data\n",
    "lat_mins, lat_maxs, lon_mins, lon_maxs = [], [], [], []\n",
    "_cleaned_frames = []\n",
    "\n",
    "def load_ev_data(path):\n",
    "    for chunk in pd.read_csv(\n",
    "        path,\n",
    "        usecols=temp_cols,\n",
    "        chunksize=chunksize,\n",
    "        low_memory=False,\n",
    "        on_bad_lines='warn'\n",
    "    ):\n",
    "        # Force conversion manually\n",
    "        for col in ['VehId', 'Trip']:\n",
    "            if col in chunk:\n",
    "                chunk[col] = pd.to_numeric(chunk[col], errors='coerce').fillna(0).astype('int32')\n",
    "\n",
    "        for c in temp_cols[2:]:\n",
    "            if c in chunk:\n",
    "                num = pd.to_numeric(chunk[c], errors='coerce').fillna(0)\n",
    "                chunk[c] = num.astype('float32') if c != 'Timestamp(ms)' else num.astype('int64')\n",
    "\n",
    "        # Drop invalid lat/lon rows\n",
    "        chunk = chunk[(chunk['Latitude[deg]'] != 0) & (chunk['Longitude[deg]'] != 0)]\n",
    "        if chunk.empty:\n",
    "            continue\n",
    "\n",
    "        lat_mins.append(chunk['Latitude[deg]'].min())\n",
    "        lat_maxs.append(chunk['Latitude[deg]'].max())\n",
    "        lon_mins.append(chunk['Longitude[deg]'].min())\n",
    "        lon_maxs.append(chunk['Longitude[deg]'].max())\n",
    "\n",
    "        # Sort and store cleaned chunk\n",
    "        _cleaned_frames.append(chunk.sort_values(['VehId','Trip','Timestamp(ms)']))\n",
    "\n",
    "# --- Change directory to your actual data folder ---\n",
    "file_paths = glob.glob(os.path.expanduser('~/Downloads/eVED/*.csv'))\n",
    "if not file_paths:\n",
    "    raise FileNotFoundError(\"No CSV files found in ~/Downloads/eVED/\")\n",
    "for p in file_paths:\n",
    "    load_ev_data(p)\n",
    "\n",
    "# Concatenate all cleaned chunks\n",
    "ev_df = pd.concat(_cleaned_frames, ignore_index=True)\n",
    "print(f\"Loaded EV data: {len(ev_df)} rows\")\n",
    "\n",
    "# Calculate global latitude/longitude min and max\n",
    "LAT_MIN, LAT_MAX = min(lat_mins), max(lat_maxs)\n",
    "LNG_MIN, LNG_MAX = min(lon_mins), max(lon_maxs)\n",
    "\n",
    "# Normalize coordinates function\n",
    "def normalize_coords(lat, lon):\n",
    "    nl = (lat - LAT_MIN)/(LAT_MAX - LAT_MIN) if LAT_MAX != LAT_MIN else 0\n",
    "    ml = (lon - LNG_MIN)/(LNG_MAX - LNG_MIN) if LNG_MAX != LNG_MIN else 0\n",
    "    return np.clip(nl, 0, 1), np.clip(ml, 0, 1)"
   ]
  },
  {
   "cell_type": "code",
   "execution_count": 6,
   "id": "c8f2e283-71cd-46c4-a9a0-43991de3b439",
   "metadata": {},
   "outputs": [
    {
     "name": "stdout",
     "output_type": "stream",
     "text": [
      "Downloading OSMnx graph…\n",
      "Data(x=[38073, 2], edge_index=[2, 96402], edge_attr=[96402, 2])\n"
     ]
    }
   ],
   "source": [
    "center_lat, center_lon = (LAT_MIN+LAT_MAX)/2, (LNG_MIN+LNG_MAX)/2\n",
    "print(\"Downloading OSMnx graph…\")\n",
    "G_nx = ox.graph_from_point((center_lat, center_lon), dist=30000, network_type='drive')\n",
    "\n",
    "node_id_map = {nid:i for i,nid in enumerate(G_nx.nodes())}\n",
    "idx2osm = {i:nid for nid,i in node_id_map.items()}\n",
    "\n",
    "# Node features: normalized coords\n",
    "node_feats = []\n",
    "for nid, data in G_nx.nodes(data=True):\n",
    "    nl, ml = normalize_coords(data['y'], data['x'])\n",
    "    node_feats.append([nl, ml])\n",
    "x = torch.tensor(node_feats, dtype=torch.float)\n",
    "\n",
    "# Edge features + index\n",
    "e_u, e_v, edge_feats = [], [], []\n",
    "lengths, speeds = [], []\n",
    "for u, v, data in G_nx.edges(data=True):\n",
    "    lengths.append(data.get('length', 0.0))\n",
    "    ms = data.get('maxspeed', 0)\n",
    "    if isinstance(ms, list): ms = ms[0]\n",
    "    try:\n",
    "        speeds.append(float(str(ms).split()[0]))\n",
    "    except:\n",
    "        speeds.append(0.0)\n",
    "\n",
    "max_len = max(lengths) or 1.0\n",
    "MAX_SP = 130.0\n",
    "\n",
    "for (u, v), length, speed in zip(G_nx.edges(), lengths, speeds):\n",
    "    ui, vi = node_id_map[u], node_id_map[v]\n",
    "    e_u.append(ui); e_v.append(vi)\n",
    "    nl = length / max_len\n",
    "    ns = np.clip(speed / MAX_SP, 0, 1)\n",
    "    edge_feats.append([nl, ns])\n",
    "\n",
    "edge_index = torch.tensor([e_u, e_v], dtype=torch.long)\n",
    "edge_attr  = torch.tensor(edge_feats, dtype=torch.float)\n",
    "graph = Data(x=x, edge_index=edge_index, edge_attr=edge_attr).to(DEVICE)\n",
    "print(graph)\n",
    "\n",
    "# Precompute quick lookup from (osm_u,osm_v) → edge_idx\n",
    "osm_edge_to_idx = {\n",
    "    (idx2osm[u], idx2osm[v]): i\n",
    "    for i, (u, v) in enumerate(zip(edge_index[0].tolist(), edge_index[1].tolist()))\n",
    "}"
   ]
  },
  {
   "cell_type": "code",
   "execution_count": 7,
   "id": "857bfa49-79df-4768-acfa-7302d9de5356",
   "metadata": {},
   "outputs": [
    {
     "name": "stdout",
     "output_type": "stream",
     "text": [
      "Processed 25633 trips\n"
     ]
    }
   ],
   "source": [
    "ev_df['node_osm'] = ox.nearest_nodes(\n",
    "    G_nx,\n",
    "    X=ev_df['Longitude[deg]'],\n",
    "    Y=ev_df['Latitude[deg]']\n",
    ")\n",
    "ev_df['node_idx'] = ev_df['node_osm'].map(node_id_map)\n",
    "ev_df.dropna(subset=['node_idx'], inplace=True)\n",
    "ev_df['node_idx'] = ev_df['node_idx'].astype(int)\n",
    "ev_df.sort_values(['VehId','Trip','Timestamp(ms)'], inplace=True)\n",
    "\n",
    "# Compute per-step durations & energy\n",
    "ev_df['duration_s'] = ev_df.groupby(['VehId','Trip'])['Timestamp(ms)']\\\n",
    "                       .diff().fillna(0) / 1000\n",
    "ev_df['step_energy'] = ev_df['MAF[g/sec]'] * ev_df['duration_s']\n",
    "\n",
    "# Collect trips with start, end, true_energy\n",
    "trips = []\n",
    "for _, grp in ev_df.groupby(['VehId','Trip']):\n",
    "    if len(grp) < 2:\n",
    "        continue\n",
    "    s = int(grp.iloc[0].node_idx)\n",
    "    d = int(grp.iloc[-1].node_idx)\n",
    "    E = grp.step_energy.sum()\n",
    "    if s != d and E > 0:\n",
    "        trips.append({'source': s, 'destination': d, 'true_energy': E})\n",
    "\n",
    "trips_df = pd.DataFrame(trips)\n",
    "print(f\"Processed {len(trips_df)} trips\")"
   ]
  },
  {
   "cell_type": "code",
   "execution_count": 8,
   "id": "ef58757b-ed6c-4d62-b60e-1b723ac76d6e",
   "metadata": {},
   "outputs": [],
   "source": [
    "class PathTripDataset(Dataset):\n",
    "    def __init__(self, trip_df, osm_graph, osm_to_idx, edge_lookup):\n",
    "        self.trips = trip_df.reset_index(drop=True)\n",
    "        self.G_nx = osm_graph\n",
    "        self.idx2osm = idx2osm\n",
    "        self.edge_lookup = edge_lookup\n",
    "        self._path_cache = {}\n",
    "\n",
    "    def __len__(self):\n",
    "        return len(self.trips)\n",
    "\n",
    "    def __getitem__(self, i):\n",
    "        r = self.trips.iloc[i]\n",
    "        src_idx = int(r.source)\n",
    "        dst_idx = int(r.destination)\n",
    "        os_src = self.idx2osm[src_idx]\n",
    "        os_dst = self.idx2osm[dst_idx]\n",
    "\n",
    "        # shortest path of osm IDs\n",
    "        try:\n",
    "            if (os_src, os_dst) in self._path_cache:\n",
    "                path_nodes = self._path_cache[(os_src, os_dst)]\n",
    "            else:\n",
    "                try:\n",
    "                    path_nodes = nx.shortest_path(self.G_nx, os_src, os_dst, weight='length')\n",
    "                except (nx.NetworkXNoPath, nx.NodeNotFound):\n",
    "                    path_nodes = []\n",
    "                self._path_cache[(os_src, os_dst)] = path_nodes\n",
    "        except (nx.NetworkXNoPath, nx.NodeNotFound):\n",
    "            path_nodes = []\n",
    "\n",
    "        # map successive node pairs to edge indices\n",
    "        idxs = []\n",
    "        for u_osm, v_osm in zip(path_nodes[:-1], path_nodes[1:]):\n",
    "            ei = self.edge_lookup.get((u_osm, v_osm))\n",
    "            if ei is not None:\n",
    "                idxs.append(ei)\n",
    "\n",
    "        edge_idxs = torch.tensor(idxs, dtype=torch.long)\n",
    "        energy_log = torch.tensor(np.log1p(r.true_energy), dtype=torch.float32)\n",
    "        return edge_idxs, energy_log\n",
    "\n",
    "def collate_paths(batch):\n",
    "    paths, energies = zip(*batch)\n",
    "    return list(paths), torch.stack(energies)\n",
    "\n",
    "# Splits\n",
    "train_df, val_df = train_test_split(trips_df, test_size=0.15, random_state=42)\n",
    "train_ds = PathTripDataset(train_df, G_nx, node_id_map, osm_edge_to_idx)\n",
    "val_ds   = PathTripDataset(val_df,   G_nx, node_id_map, osm_edge_to_idx)\n",
    "\n",
    "train_loader = DataLoader(\n",
    "    train_ds, batch_size=16, shuffle=True, collate_fn=collate_paths\n",
    ")\n",
    "val_loader = DataLoader(\n",
    "    val_ds, batch_size=32, shuffle=False, collate_fn=collate_paths\n",
    ")"
   ]
  },
  {
   "cell_type": "code",
   "execution_count": 9,
   "id": "abf68080-b473-4fc5-bfaa-b7181ef20f14",
   "metadata": {},
   "outputs": [],
   "source": [
    "class GNNPathEnergyPredictor(nn.Module):\n",
    "    def __init__(self, node_dim, edge_dim, hid=128, rnn_hid=128, nlayers=4, drop=0.3):\n",
    "        super().__init__()\n",
    "        self.node_emb = Linear(node_dim, hid)\n",
    "        self.edge_emb = Linear(edge_dim, hid)\n",
    "\n",
    "        self.convs = nn.ModuleList()\n",
    "        self.norms = nn.ModuleList()\n",
    "        for _ in range(nlayers):\n",
    "            mlp = nn.Sequential(Linear(hid, hid), ReLU(), Linear(hid, hid))\n",
    "            self.convs.append(GINEConv(mlp, edge_dim=hid))\n",
    "            self.norms.append(LayerNorm(hid))\n",
    "\n",
    "        self.rnn = GRU(input_size=3*hid, hidden_size=rnn_hid, batch_first=True)\n",
    "        self.decoder = nn.Sequential(\n",
    "            Linear(rnn_hid, hid),\n",
    "            ReLU(),\n",
    "            Dropout(drop),\n",
    "            Linear(hid, 1)\n",
    "        )\n",
    "\n",
    "    def forward(self, graph, path_list):\n",
    "        x = self.node_emb(graph.x)\n",
    "        ea = self.edge_emb(graph.edge_attr)\n",
    "        # GINE layers\n",
    "        for conv, norm in zip(self.convs, self.norms):\n",
    "            res = x\n",
    "            x = conv(x, graph.edge_index, ea)\n",
    "            x = norm(x)\n",
    "            x = F.relu(x) + res\n",
    "        emb = x\n",
    "\n",
    "        # build per-path sequences of [src_emb | edge_emb | dst_emb]\n",
    "        seqs = []\n",
    "        for eidx in path_list:\n",
    "            src_nodes = graph.edge_index[0, eidx]\n",
    "            dst_nodes = graph.edge_index[1, eidx]\n",
    "            seq = torch.cat([emb[src_nodes], ea[eidx], emb[dst_nodes]], dim=1)\n",
    "            seqs.append(seq)\n",
    "\n",
    "        # pack & GRU\n",
    "        lengths = [s.size(0) for s in seqs]\n",
    "        padded = nn.utils.rnn.pad_sequence(seqs, batch_first=True)\n",
    "        packed = nn.utils.rnn.pack_padded_sequence(\n",
    "            padded, lengths, batch_first=True, enforce_sorted=False\n",
    "        )\n",
    "        _, h = self.rnn(packed)\n",
    "        out = self.decoder(h.squeeze(0)).squeeze(1)\n",
    "        return out"
   ]
  },
  {
   "cell_type": "code",
   "execution_count": 10,
   "id": "bfc716a0-5a7b-4fa9-9ee8-e2993cb17f62",
   "metadata": {},
   "outputs": [
    {
     "name": "stderr",
     "output_type": "stream",
     "text": [
      "Epoch 1 [train]: 100%|██████████████████████| 1362/1362 [10:10<00:00,  2.23it/s]\n",
      "Epoch 1 [val]: 100%|██████████████████████████| 121/121 [00:24<00:00,  5.02it/s]\n"
     ]
    },
    {
     "name": "stdout",
     "output_type": "stream",
     "text": [
      "Epoch 01 | train 2.1215 | val 0.6921 | 634.5s\n",
      "  🚀 Saved improved model\n"
     ]
    },
    {
     "name": "stderr",
     "output_type": "stream",
     "text": [
      "Epoch 2 [train]: 100%|██████████████████████| 1362/1362 [09:45<00:00,  2.33it/s]\n",
      "Epoch 2 [val]: 100%|██████████████████████████| 121/121 [00:15<00:00,  7.84it/s]\n"
     ]
    },
    {
     "name": "stdout",
     "output_type": "stream",
     "text": [
      "Epoch 02 | train 1.3090 | val 0.7204 | 600.5s\n"
     ]
    },
    {
     "name": "stderr",
     "output_type": "stream",
     "text": [
      "Epoch 3 [train]: 100%|██████████████████████| 1362/1362 [09:44<00:00,  2.33it/s]\n",
      "Epoch 3 [val]: 100%|██████████████████████████| 121/121 [00:15<00:00,  7.82it/s]\n"
     ]
    },
    {
     "name": "stdout",
     "output_type": "stream",
     "text": [
      "Epoch 03 | train 1.2702 | val 0.6450 | 600.5s\n",
      "  🚀 Saved improved model\n"
     ]
    },
    {
     "name": "stderr",
     "output_type": "stream",
     "text": [
      "Epoch 4 [train]: 100%|██████████████████████| 1362/1362 [09:38<00:00,  2.35it/s]\n",
      "Epoch 4 [val]: 100%|██████████████████████████| 121/121 [00:15<00:00,  7.63it/s]\n"
     ]
    },
    {
     "name": "stdout",
     "output_type": "stream",
     "text": [
      "Epoch 04 | train 1.2105 | val 0.6716 | 594.8s\n"
     ]
    },
    {
     "name": "stderr",
     "output_type": "stream",
     "text": [
      "Epoch 5 [train]: 100%|██████████████████████| 1362/1362 [09:33<00:00,  2.38it/s]\n",
      "Epoch 5 [val]: 100%|██████████████████████████| 121/121 [00:14<00:00,  8.10it/s]\n"
     ]
    },
    {
     "name": "stdout",
     "output_type": "stream",
     "text": [
      "Epoch 05 | train 1.1584 | val 0.6152 | 588.1s\n",
      "  🚀 Saved improved model\n"
     ]
    },
    {
     "name": "stderr",
     "output_type": "stream",
     "text": [
      "Epoch 6 [train]: 100%|██████████████████████| 1362/1362 [09:24<00:00,  2.41it/s]\n",
      "Epoch 6 [val]: 100%|██████████████████████████| 121/121 [00:14<00:00,  8.17it/s]\n"
     ]
    },
    {
     "name": "stdout",
     "output_type": "stream",
     "text": [
      "Epoch 06 | train 1.1075 | val 0.6629 | 579.2s\n"
     ]
    },
    {
     "name": "stderr",
     "output_type": "stream",
     "text": [
      "Epoch 7 [train]: 100%|██████████████████████| 1362/1362 [09:22<00:00,  2.42it/s]\n",
      "Epoch 7 [val]: 100%|██████████████████████████| 121/121 [00:15<00:00,  7.96it/s]\n"
     ]
    },
    {
     "name": "stdout",
     "output_type": "stream",
     "text": [
      "Epoch 07 | train 1.0605 | val 0.6138 | 578.1s\n",
      "  🚀 Saved improved model\n"
     ]
    },
    {
     "name": "stderr",
     "output_type": "stream",
     "text": [
      "Epoch 8 [train]: 100%|██████████████████████| 1362/1362 [09:26<00:00,  2.40it/s]\n",
      "Epoch 8 [val]: 100%|██████████████████████████| 121/121 [00:14<00:00,  8.11it/s]\n"
     ]
    },
    {
     "name": "stdout",
     "output_type": "stream",
     "text": [
      "Epoch 08 | train 1.0356 | val 0.5989 | 581.5s\n",
      "  🚀 Saved improved model\n"
     ]
    },
    {
     "name": "stderr",
     "output_type": "stream",
     "text": [
      "Epoch 9 [train]: 100%|██████████████████████| 1362/1362 [09:14<00:00,  2.46it/s]\n",
      "Epoch 9 [val]: 100%|██████████████████████████| 121/121 [00:14<00:00,  8.14it/s]\n"
     ]
    },
    {
     "name": "stdout",
     "output_type": "stream",
     "text": [
      "Epoch 09 | train 1.0134 | val 0.5789 | 569.0s\n",
      "  🚀 Saved improved model\n"
     ]
    },
    {
     "name": "stderr",
     "output_type": "stream",
     "text": [
      "Epoch 10 [train]: 100%|█████████████████████| 1362/1362 [15:43<00:00,  1.44it/s]\n",
      "Epoch 10 [val]: 100%|█████████████████████████| 121/121 [00:36<00:00,  3.28it/s]\n"
     ]
    },
    {
     "name": "stdout",
     "output_type": "stream",
     "text": [
      "Epoch 10 | train 0.9725 | val 0.5471 | 980.2s\n",
      "  🚀 Saved improved model\n"
     ]
    },
    {
     "name": "stderr",
     "output_type": "stream",
     "text": [
      "Epoch 11 [train]: 100%|█████████████████████| 1362/1362 [18:12<00:00,  1.25it/s]\n",
      "Epoch 11 [val]: 100%|█████████████████████████| 121/121 [00:49<00:00,  2.46it/s]\n"
     ]
    },
    {
     "name": "stdout",
     "output_type": "stream",
     "text": [
      "Epoch 11 | train 0.9688 | val 0.6128 | 1141.2s\n"
     ]
    },
    {
     "name": "stderr",
     "output_type": "stream",
     "text": [
      "Epoch 12 [train]: 100%|█████████████████████| 1362/1362 [20:09<00:00,  1.13it/s]\n",
      "Epoch 12 [val]: 100%|█████████████████████████| 121/121 [00:14<00:00,  8.31it/s]\n"
     ]
    },
    {
     "name": "stdout",
     "output_type": "stream",
     "text": [
      "Epoch 12 | train 0.9307 | val 0.5495 | 1224.1s\n"
     ]
    },
    {
     "name": "stderr",
     "output_type": "stream",
     "text": [
      "Epoch 13 [train]: 100%|█████████████████████| 1362/1362 [19:28<00:00,  1.17it/s]\n",
      "Epoch 13 [val]: 100%|█████████████████████████| 121/121 [00:14<00:00,  8.19it/s]\n"
     ]
    },
    {
     "name": "stdout",
     "output_type": "stream",
     "text": [
      "Epoch 13 | train 0.8983 | val 0.5272 | 1183.1s\n",
      "  🚀 Saved improved model\n"
     ]
    },
    {
     "name": "stderr",
     "output_type": "stream",
     "text": [
      "Epoch 14 [train]: 100%|█████████████████████| 1362/1362 [29:37<00:00,  1.30s/it]\n",
      "Epoch 14 [val]: 100%|█████████████████████████| 121/121 [00:14<00:00,  8.24it/s]\n"
     ]
    },
    {
     "name": "stdout",
     "output_type": "stream",
     "text": [
      "Epoch 14 | train 0.8776 | val 0.5316 | 1791.8s\n"
     ]
    },
    {
     "name": "stderr",
     "output_type": "stream",
     "text": [
      "Epoch 15 [train]: 100%|█████████████████████| 1362/1362 [33:57<00:00,  1.50s/it]\n",
      "Epoch 15 [val]: 100%|█████████████████████████| 121/121 [00:14<00:00,  8.27it/s]\n"
     ]
    },
    {
     "name": "stdout",
     "output_type": "stream",
     "text": [
      "Epoch 15 | train 0.8591 | val 0.6563 | 2052.3s\n"
     ]
    },
    {
     "name": "stderr",
     "output_type": "stream",
     "text": [
      "Epoch 16 [train]: 100%|█████████████████████| 1362/1362 [15:23<00:00,  1.47it/s]\n",
      "Epoch 16 [val]: 100%|█████████████████████████| 121/121 [00:14<00:00,  8.27it/s]\n"
     ]
    },
    {
     "name": "stdout",
     "output_type": "stream",
     "text": [
      "Epoch 16 | train 0.8410 | val 0.5102 | 938.5s\n",
      "  🚀 Saved improved model\n"
     ]
    },
    {
     "name": "stderr",
     "output_type": "stream",
     "text": [
      "Epoch 17 [train]: 100%|█████████████████████| 1362/1362 [10:32<00:00,  2.15it/s]\n",
      "Epoch 17 [val]: 100%|█████████████████████████| 121/121 [00:15<00:00,  7.86it/s]\n"
     ]
    },
    {
     "name": "stdout",
     "output_type": "stream",
     "text": [
      "Epoch 17 | train 0.8192 | val 0.5123 | 648.2s\n"
     ]
    },
    {
     "name": "stderr",
     "output_type": "stream",
     "text": [
      "Epoch 18 [train]: 100%|█████████████████████| 1362/1362 [20:33<00:00,  1.10it/s]\n",
      "Epoch 18 [val]: 100%|█████████████████████████| 121/121 [00:14<00:00,  8.14it/s]\n"
     ]
    },
    {
     "name": "stdout",
     "output_type": "stream",
     "text": [
      "Epoch 18 | train 0.7913 | val 0.7404 | 1247.9s\n"
     ]
    },
    {
     "name": "stderr",
     "output_type": "stream",
     "text": [
      "Epoch 19 [train]: 100%|█████████████████████| 1362/1362 [18:12<00:00,  1.25it/s]\n",
      "Epoch 19 [val]: 100%|█████████████████████████| 121/121 [00:14<00:00,  8.15it/s]\n"
     ]
    },
    {
     "name": "stdout",
     "output_type": "stream",
     "text": [
      "Epoch 19 | train 0.7774 | val 0.5076 | 1107.6s\n",
      "  🚀 Saved improved model\n"
     ]
    },
    {
     "name": "stderr",
     "output_type": "stream",
     "text": [
      "Epoch 20 [train]: 100%|█████████████████████| 1362/1362 [10:17<00:00,  2.21it/s]\n",
      "Epoch 20 [val]: 100%|█████████████████████████| 121/121 [00:16<00:00,  7.23it/s]\n"
     ]
    },
    {
     "name": "stdout",
     "output_type": "stream",
     "text": [
      "Epoch 20 | train 0.7511 | val 0.5063 | 633.8s\n",
      "  🚀 Saved improved model\n"
     ]
    },
    {
     "name": "stderr",
     "output_type": "stream",
     "text": [
      "Epoch 21 [train]: 100%|█████████████████████| 1362/1362 [14:05<00:00,  1.61it/s]\n",
      "Epoch 21 [val]: 100%|█████████████████████████| 121/121 [00:14<00:00,  8.20it/s]\n"
     ]
    },
    {
     "name": "stdout",
     "output_type": "stream",
     "text": [
      "Epoch 21 | train 0.7397 | val 0.5179 | 860.1s\n"
     ]
    },
    {
     "name": "stderr",
     "output_type": "stream",
     "text": [
      "Epoch 22 [train]: 100%|█████████████████████| 1362/1362 [24:09<00:00,  1.06s/it]\n",
      "Epoch 22 [val]: 100%|█████████████████████████| 121/121 [00:14<00:00,  8.10it/s]\n"
     ]
    },
    {
     "name": "stdout",
     "output_type": "stream",
     "text": [
      "Epoch 22 | train 0.7362 | val 0.5110 | 1464.0s\n"
     ]
    },
    {
     "name": "stderr",
     "output_type": "stream",
     "text": [
      "Epoch 23 [train]: 100%|█████████████████████| 1362/1362 [09:20<00:00,  2.43it/s]\n",
      "Epoch 23 [val]: 100%|█████████████████████████| 121/121 [00:14<00:00,  8.13it/s]\n"
     ]
    },
    {
     "name": "stdout",
     "output_type": "stream",
     "text": [
      "Epoch 23 | train 0.7148 | val 0.4994 | 575.5s\n",
      "  🚀 Saved improved model\n"
     ]
    },
    {
     "name": "stderr",
     "output_type": "stream",
     "text": [
      "Epoch 24 [train]: 100%|█████████████████████| 1362/1362 [12:28<00:00,  1.82it/s]\n",
      "Epoch 24 [val]: 100%|█████████████████████████| 121/121 [00:14<00:00,  8.10it/s]\n"
     ]
    },
    {
     "name": "stdout",
     "output_type": "stream",
     "text": [
      "Epoch 24 | train 0.6884 | val 0.4903 | 763.8s\n",
      "  🚀 Saved improved model\n"
     ]
    },
    {
     "name": "stderr",
     "output_type": "stream",
     "text": [
      "Epoch 25 [train]: 100%|█████████████████████| 1362/1362 [09:21<00:00,  2.43it/s]\n",
      "Epoch 25 [val]: 100%|█████████████████████████| 121/121 [00:15<00:00,  7.62it/s]\n"
     ]
    },
    {
     "name": "stdout",
     "output_type": "stream",
     "text": [
      "Epoch 25 | train 0.6761 | val 0.5120 | 577.5s\n"
     ]
    },
    {
     "name": "stderr",
     "output_type": "stream",
     "text": [
      "Epoch 26 [train]: 100%|█████████████████████| 1362/1362 [09:24<00:00,  2.41it/s]\n",
      "Epoch 26 [val]: 100%|█████████████████████████| 121/121 [00:14<00:00,  8.15it/s]\n"
     ]
    },
    {
     "name": "stdout",
     "output_type": "stream",
     "text": [
      "Epoch 26 | train 0.6572 | val 0.5007 | 579.8s\n"
     ]
    },
    {
     "name": "stderr",
     "output_type": "stream",
     "text": [
      "Epoch 27 [train]: 100%|█████████████████████| 1362/1362 [09:14<00:00,  2.46it/s]\n",
      "Epoch 27 [val]: 100%|█████████████████████████| 121/121 [00:14<00:00,  8.10it/s]\n"
     ]
    },
    {
     "name": "stdout",
     "output_type": "stream",
     "text": [
      "Epoch 27 | train 0.6513 | val 0.5009 | 569.7s\n"
     ]
    },
    {
     "name": "stderr",
     "output_type": "stream",
     "text": [
      "Epoch 28 [train]: 100%|█████████████████████| 1362/1362 [09:13<00:00,  2.46it/s]\n",
      "Epoch 28 [val]: 100%|█████████████████████████| 121/121 [00:14<00:00,  8.15it/s]\n"
     ]
    },
    {
     "name": "stdout",
     "output_type": "stream",
     "text": [
      "Epoch 28 | train 0.6226 | val 0.4901 | 567.9s\n",
      "  🚀 Saved improved model\n"
     ]
    },
    {
     "name": "stderr",
     "output_type": "stream",
     "text": [
      "Epoch 29 [train]: 100%|█████████████████████| 1362/1362 [09:09<00:00,  2.48it/s]\n",
      "Epoch 29 [val]: 100%|█████████████████████████| 121/121 [00:14<00:00,  8.20it/s]\n"
     ]
    },
    {
     "name": "stdout",
     "output_type": "stream",
     "text": [
      "Epoch 29 | train 0.6214 | val 0.4901 | 564.2s\n"
     ]
    },
    {
     "name": "stderr",
     "output_type": "stream",
     "text": [
      "Epoch 30 [train]: 100%|█████████████████████| 1362/1362 [09:11<00:00,  2.47it/s]\n",
      "Epoch 30 [val]: 100%|█████████████████████████| 121/121 [00:14<00:00,  8.18it/s]"
     ]
    },
    {
     "name": "stdout",
     "output_type": "stream",
     "text": [
      "Epoch 30 | train 0.6009 | val 0.5126 | 566.1s\n",
      "Training complete. Best val loss: 0.4901300139171033\n"
     ]
    },
    {
     "name": "stderr",
     "output_type": "stream",
     "text": [
      "\n"
     ]
    }
   ],
   "source": [
    "model = GNNPathEnergyPredictor(\n",
    "    node_dim=graph.x.shape[1],\n",
    "    edge_dim=graph.edge_attr.shape[1]\n",
    ").to(DEVICE)\n",
    "opt = torch.optim.Adam(model.parameters(), lr=5e-4)\n",
    "loss_fn = nn.MSELoss()\n",
    "\n",
    "best_val = float('inf')\n",
    "for epoch in range(1, 31):\n",
    "    t0 = time.time()\n",
    "    model.train()\n",
    "    train_loss = 0\n",
    "    for paths, energies in tqdm(train_loader, desc=f\"Epoch {epoch} [train]\"):\n",
    "        opt.zero_grad()\n",
    "        preds = model(graph, [p.to(DEVICE) for p in paths])\n",
    "        loss = loss_fn(preds, energies.to(DEVICE))\n",
    "        loss.backward()\n",
    "        opt.step()\n",
    "        train_loss += loss.item()\n",
    "    train_loss /= len(train_loader)\n",
    "\n",
    "    model.eval()\n",
    "    val_loss = 0\n",
    "    with torch.no_grad():\n",
    "        for paths, energies in tqdm(val_loader, desc=f\"Epoch {epoch} [val]\"):\n",
    "            preds = model(graph, [p.to(DEVICE) for p in paths])\n",
    "            val_loss += loss_fn(preds, energies.to(DEVICE)).item()\n",
    "    val_loss /= len(val_loader)\n",
    "\n",
    "    print(f\"Epoch {epoch:02d} | train {train_loss:.4f} | val {val_loss:.4f} | {time.time()-t0:.1f}s\")\n",
    "    if val_loss < best_val:\n",
    "        best_val = val_loss\n",
    "        torch.save(model.state_dict(), './best_path_energy_predictor.pth')\n",
    "        print(\"  🚀 Saved improved model\")\n",
    "\n",
    "print(\"Training complete. Best val loss:\", best_val)"
   ]
  },
  {
   "cell_type": "code",
   "execution_count": 14,
   "id": "a6366f3d-9bf3-4cce-97d2-9938f868a7bb",
   "metadata": {},
   "outputs": [
    {
     "name": "stdout",
     "output_type": "stream",
     "text": [
      "✅ Model saved to /Users/vg/Downloads/best_path_energy_predictor.pth\n"
     ]
    }
   ],
   "source": [
    "save_path = os.path.expanduser('~/Downloads/best_path_energy_predictor.pth')\n",
    "torch.save(model.state_dict(), save_path)\n",
    "print(f\"✅ Model saved to {save_path}\")"
   ]
  },
  {
   "cell_type": "code",
   "execution_count": 18,
   "id": "2dc73aa0-f7ab-47a7-ac37-c8a2c150b9d9",
   "metadata": {},
   "outputs": [
    {
     "name": "stdout",
     "output_type": "stream",
     "text": [
      "Generating visualizations...\n",
      "\n",
      "1. Visualizing paths on map...\n",
      "Map saved to 'path_visualization_map.html'\n",
      "\n",
      "2. Creating prediction scatter plot...\n",
      "Could not calculate metrics: got an unexpected keyword argument 'squared'\n",
      "Scatter plot saved as 'energy_prediction_scatter.png'\n",
      "\n",
      "3. Visualizing edge features...\n",
      "Edge feature distribution saved as 'edge_feature_distribution.png'\n",
      "\n",
      "4. Creating energy consumption heatmap...\n",
      "Energy heatmap saved to 'energy_consumption_heatmap.html'\n",
      "\n",
      "5. Plotting path length vs. energy...\n",
      "Could not calculate regression: module 'pandas' has no attribute 'np'\n",
      "Path length vs. energy plot saved as 'path_length_vs_energy.png'\n",
      "\n",
      "6. Creating network visualization...\n"
     ]
    },
    {
     "data": {
      "image/png": "[encoded data removed]",
      "text/plain": [
       "<Figure size 1200x1000 with 1 Axes>"
      ]
     },
     "metadata": {},
     "output_type": "display_data"
    },
    {
     "name": "stdout",
     "output_type": "stream",
     "text": [
      "Network visualization saved as 'network_energy_visualization.png'\n",
      "\n",
      "Visualizations completed! Check for generated files.\n"
     ]
    }
   ],
   "source": [
    "import matplotlib.pyplot as plt\n",
    "import folium\n",
    "from folium.plugins import HeatMap\n",
    "import seaborn as sns\n",
    "import torch\n",
    "import math\n",
    "import osmnx as ox\n",
    "import pandas as pd\n",
    "from sklearn.metrics import mean_absolute_error, mean_squared_error, r2_score\n",
    "\n",
    "# Define a fallback for numpy's expm1 function\n",
    "def expm1(x):\n",
    "    return math.exp(x) - 1 if isinstance(x, (int, float)) else [math.exp(val) - 1 for val in x]\n",
    "\n",
    "# 1. Path Visualization on a Map\n",
    "def visualize_paths_on_map(G_nx, idx2osm, model, graph, val_loader, num_samples=5):\n",
    "    # Load the best model\n",
    "    try:\n",
    "        model.load_state_dict(torch.load('./best_path_energy_predictor.pth'))\n",
    "    except Exception as e:\n",
    "        print(f\"Could not load saved model: {e}. Using current model state.\")\n",
    "    \n",
    "    model.eval()\n",
    "    \n",
    "    # Sample paths from validation set\n",
    "    samples = []\n",
    "    with torch.no_grad():\n",
    "        for paths, energies in val_loader:\n",
    "            for i in range(min(len(paths), num_samples)):\n",
    "                path_edges = paths[i]\n",
    "                true_energy = math.exp(energies[i].item()) - 1  # expm1\n",
    "                \n",
    "                # Get the prediction\n",
    "                pred = model(graph, [path_edges.to(DEVICE)])\n",
    "                pred_energy = math.exp(pred.cpu().item()) - 1  # expm1\n",
    "                \n",
    "                # Extract the nodes in the path\n",
    "                src_nodes = graph.edge_index[0, path_edges].cpu().tolist()\n",
    "                dst_nodes = graph.edge_index[1, path_edges].cpu().tolist()\n",
    "                \n",
    "                # Convert to OSM node IDs\n",
    "                path_osm_nodes = []\n",
    "                if len(src_nodes) > 0:\n",
    "                    path_osm_nodes = [idx2osm[src_nodes[0]]]\n",
    "                    for node in dst_nodes:\n",
    "                        path_osm_nodes.append(idx2osm[node])\n",
    "                \n",
    "                samples.append({\n",
    "                    'path_osm_nodes': path_osm_nodes,\n",
    "                    'true_energy': true_energy,\n",
    "                    'pred_energy': pred_energy\n",
    "                })\n",
    "                \n",
    "                if len(samples) >= num_samples:\n",
    "                    break\n",
    "            if len(samples) >= num_samples:\n",
    "                break\n",
    "    \n",
    "    # Create a Folium map centered on the first path\n",
    "    if samples and samples[0]['path_osm_nodes']:\n",
    "        first_node = samples[0]['path_osm_nodes'][0]\n",
    "        node_data = G_nx.nodes[first_node]\n",
    "        center_lat, center_lon = node_data['y'], node_data['x']\n",
    "    else:\n",
    "        # Fallback to graph center\n",
    "        center_lat, center_lon = (LAT_MIN + LAT_MAX) / 2, (LNG_MIN + LNG_MAX) / 2\n",
    "    \n",
    "    m = folium.Map(location=[center_lat, center_lon], zoom_start=12)\n",
    "    \n",
    "    # Colors for different paths\n",
    "    colors = ['blue', 'red', 'green', 'purple', 'orange']\n",
    "    \n",
    "    # Add paths to the map\n",
    "    for i, sample in enumerate(samples):\n",
    "        if not sample['path_osm_nodes'] or len(sample['path_osm_nodes']) < 2:\n",
    "            continue\n",
    "            \n",
    "        color = colors[i % len(colors)]\n",
    "        \n",
    "        # Extract path coordinates\n",
    "        path_coords = []\n",
    "        for node_id in sample['path_osm_nodes']:\n",
    "            if node_id in G_nx.nodes():\n",
    "                node_data = G_nx.nodes[node_id]\n",
    "                path_coords.append((node_data['y'], node_data['x']))\n",
    "        \n",
    "        if path_coords:\n",
    "            # Add the path as a polyline\n",
    "            folium.PolyLine(\n",
    "                path_coords,\n",
    "                color=color,\n",
    "                weight=4,\n",
    "                opacity=0.8,\n",
    "                tooltip=f\"Path {i+1}: True={sample['true_energy']:.2f}, Pred={sample['pred_energy']:.2f}\"\n",
    "            ).add_to(m)\n",
    "            \n",
    "            # Add markers for start and end points\n",
    "            folium.Marker(\n",
    "                path_coords[0],\n",
    "                icon=folium.Icon(color=color, icon='play', prefix='fa'),\n",
    "                tooltip=f\"Start of Path {i+1}\"\n",
    "            ).add_to(m)\n",
    "            \n",
    "            folium.Marker(\n",
    "                path_coords[-1],\n",
    "                icon=folium.Icon(color=color, icon='stop', prefix='fa'),\n",
    "                tooltip=f\"End of Path {i+1}\"\n",
    "            ).add_to(m)\n",
    "    \n",
    "    # Save the map to an HTML file\n",
    "    m.save('path_visualization_map.html')\n",
    "    print(\"Map saved to 'path_visualization_map.html'\")\n",
    "    return m\n",
    "\n",
    "# 2. Predicted vs. Actual Energy Consumption\n",
    "def plot_prediction_scatter(model, graph, val_loader):\n",
    "    try:\n",
    "        model.load_state_dict(torch.load('./best_path_energy_predictor.pth'))\n",
    "    except Exception as e:\n",
    "        print(f\"Could not load saved model: {e}. Using current model state.\")\n",
    "    \n",
    "    model.eval()\n",
    "    \n",
    "    true_energies = []\n",
    "    pred_energies = []\n",
    "    \n",
    "    with torch.no_grad():\n",
    "        for paths, energies in val_loader:\n",
    "            preds = model(graph, [p.to(DEVICE) for p in paths])\n",
    "            \n",
    "            # Convert log values back to original scale\n",
    "            for i in range(len(energies)):\n",
    "                true_e = math.exp(energies[i].item()) - 1  # expm1\n",
    "                pred_e = math.exp(preds[i].item()) - 1  # expm1\n",
    "                true_energies.append(true_e)\n",
    "                pred_energies.append(pred_e)\n",
    "    \n",
    "    # Create scatter plot\n",
    "    plt.figure(figsize=(10, 8))\n",
    "    plt.scatter(true_energies, pred_energies, alpha=0.6)\n",
    "    \n",
    "    # Add perfect prediction line\n",
    "    max_val = max(max(true_energies), max(pred_energies))\n",
    "    min_val = min(min(true_energies), min(pred_energies))\n",
    "    plt.plot([min_val, max_val], [min_val, max_val], 'r--')\n",
    "    \n",
    "    plt.xlabel('True Energy Consumption')\n",
    "    plt.ylabel('Predicted Energy Consumption')\n",
    "    plt.title('Predicted vs. Actual Energy Consumption')\n",
    "    \n",
    "    # Calculate metrics\n",
    "    try:\n",
    "        mae = mean_absolute_error(true_energies, pred_energies)\n",
    "        rmse = mean_squared_error(true_energies, pred_energies, squared=False)\n",
    "        r2 = r2_score(true_energies, pred_energies)\n",
    "        plt.figtext(0.15, 0.85, f'MAE: {mae:.2f}\\nRMSE: {rmse:.2f}\\nR²: {r2:.2f}')\n",
    "    except Exception as e:\n",
    "        print(f\"Could not calculate metrics: {e}\")\n",
    "    \n",
    "    plt.tight_layout()\n",
    "    plt.savefig('energy_prediction_scatter.png', dpi=300)\n",
    "    plt.close()\n",
    "    print(\"Scatter plot saved as 'energy_prediction_scatter.png'\")\n",
    "    \n",
    "    return true_energies, pred_energies\n",
    "\n",
    "# 3. Edge Feature Importance Visualization\n",
    "def visualize_edge_features(G_nx, graph, model):\n",
    "    # Get edge attributes from the graph\n",
    "    edge_features = graph.edge_attr.cpu().tolist()\n",
    "    \n",
    "    # We have two edge features: normalized length and normalized speed\n",
    "    lengths = [feat[0] for feat in edge_features]\n",
    "    speeds = [feat[1] for feat in edge_features]\n",
    "    \n",
    "    # Create a scatter plot of edge features\n",
    "    plt.figure(figsize=(10, 8))\n",
    "    plt.scatter(lengths, speeds, alpha=0.5)\n",
    "    plt.xlabel('Normalized Road Length')\n",
    "    plt.ylabel('Normalized Speed Limit')\n",
    "    plt.title('Edge Feature Distribution')\n",
    "    \n",
    "    # Add density contours if seaborn is working\n",
    "    try:\n",
    "        sns.kdeplot(x=lengths, y=speeds, levels=5, color='k', linewidths=1)\n",
    "    except:\n",
    "        print(\"Could not generate contour plot with seaborn.\")\n",
    "    \n",
    "    plt.tight_layout()\n",
    "    plt.savefig('edge_feature_distribution.png', dpi=300)\n",
    "    plt.close()\n",
    "    print(\"Edge feature distribution saved as 'edge_feature_distribution.png'\")\n",
    "\n",
    "# 4. Create a heatmap of energy consumption\n",
    "def create_energy_heatmap(G_nx, idx2osm, val_loader, trips_df):\n",
    "    # Extract node positions\n",
    "    node_positions = {}\n",
    "    for node_id, data in G_nx.nodes(data=True):\n",
    "        node_positions[node_id] = (data['y'], data['x'])\n",
    "    \n",
    "    # Get energy values per node from trip data\n",
    "    node_energy = {}\n",
    "    for _, row in trips_df.iterrows():\n",
    "        src_idx = int(row.source)\n",
    "        dst_idx = int(row.destination)\n",
    "        src_osm = idx2osm[src_idx]\n",
    "        dst_osm = idx2osm[dst_idx]\n",
    "        \n",
    "        # Split energy evenly between start and end nodes for simplicity\n",
    "        energy = row.true_energy / 2\n",
    "        \n",
    "        if src_osm in node_positions:\n",
    "            node_energy[src_osm] = node_energy.get(src_osm, 0) + energy\n",
    "        if dst_osm in node_positions:\n",
    "            node_energy[dst_osm] = node_energy.get(dst_osm, 0) + energy\n",
    "    \n",
    "    # Create heatmap data\n",
    "    heat_data = []\n",
    "    for node_id, energy in node_energy.items():\n",
    "        if node_id in node_positions:\n",
    "            lat, lon = node_positions[node_id]\n",
    "            heat_data.append([lat, lon, min(energy, 10000)])  # Cap values to prevent outliers\n",
    "    \n",
    "    # Create a Folium map\n",
    "    center_lat, center_lon = (LAT_MIN + LAT_MAX) / 2, (LNG_MIN + LNG_MAX) / 2\n",
    "    m = folium.Map(location=[center_lat, center_lon], zoom_start=12)\n",
    "    \n",
    "    # Add the heatmap layer\n",
    "    HeatMap(heat_data, radius=15, blur=10).add_to(m)\n",
    "    \n",
    "    # Save the map\n",
    "    m.save('energy_consumption_heatmap.html')\n",
    "    print(\"Energy heatmap saved to 'energy_consumption_heatmap.html'\")\n",
    "    return m\n",
    "\n",
    "# 5. Path length vs. energy consumption\n",
    "def plot_path_length_vs_energy(G_nx, idx2osm, trips_df):\n",
    "    path_lengths = []\n",
    "    energies = []\n",
    "    \n",
    "    for _, row in trips_df.iterrows():\n",
    "        src_idx = int(row.source)\n",
    "        dst_idx = int(row.destination)\n",
    "        src_osm = idx2osm[src_idx]\n",
    "        dst_osm = idx2osm[dst_idx]\n",
    "        \n",
    "        try:\n",
    "            path = nx.shortest_path(G_nx, src_osm, dst_osm, weight='length')\n",
    "            # Calculate path length\n",
    "            path_length = 0\n",
    "            for u, v in zip(path[:-1], path[1:]):\n",
    "                # Get edge data between u and v\n",
    "                if v in G_nx[u]:\n",
    "                    edge_data = G_nx[u][v][0]  # Get the first (or only) edge between u and v\n",
    "                    path_length += edge_data.get('length', 0)\n",
    "            \n",
    "            path_lengths.append(path_length)\n",
    "            energies.append(row.true_energy)\n",
    "        except (nx.NetworkXNoPath, nx.NodeNotFound):\n",
    "            continue\n",
    "    \n",
    "    # Create scatter plot\n",
    "    plt.figure(figsize=(10, 8))\n",
    "    plt.scatter(path_lengths, energies, alpha=0.5)\n",
    "    \n",
    "    # Add regression line if we have data points\n",
    "    if path_lengths:\n",
    "        try:\n",
    "            df = pd.DataFrame({'x': path_lengths, 'y': energies})\n",
    "            if len(df) > 1:  # Need at least 2 points for correlation\n",
    "                # Calculate correlation\n",
    "                corr = df['x'].corr(df['y'])\n",
    "                plt.figtext(0.15, 0.85, f'Correlation: {corr:.2f}')\n",
    "                \n",
    "                # Simple linear regression\n",
    "                coefficients = pd.np.polyfit(df['x'], df['y'], 1)\n",
    "                polynomial = pd.np.poly1d(coefficients)\n",
    "                x_sorted = sorted(path_lengths)\n",
    "                plt.plot(x_sorted, [polynomial(x) for x in x_sorted], \"r--\", linewidth=2)\n",
    "        except Exception as e:\n",
    "            print(f\"Could not calculate regression: {e}\")\n",
    "    \n",
    "    plt.xlabel('Path Length (meters)')\n",
    "    plt.ylabel('Energy Consumption')\n",
    "    plt.title('Path Length vs. Energy Consumption')\n",
    "    plt.tight_layout()\n",
    "    plt.savefig('path_length_vs_energy.png', dpi=300)\n",
    "    plt.close()\n",
    "    print(\"Path length vs. energy plot saved as 'path_length_vs_energy.png'\")\n",
    "    \n",
    "    return path_lengths, energies\n",
    "\n",
    "# 6. Basic network visualization with node sizes reflecting energy consumption\n",
    "def visualize_network_with_energy(G_nx, idx2osm, trips_df):\n",
    "    # First, collect energy per node\n",
    "    node_energy = {}\n",
    "    \n",
    "    # Process trip data\n",
    "    for _, row in trips_df.iterrows():\n",
    "        src_idx = int(row.source)\n",
    "        dst_idx = int(row.destination)\n",
    "        src_osm = idx2osm[src_idx] \n",
    "        dst_osm = idx2osm[dst_idx]\n",
    "        \n",
    "        # Split energy evenly between start and end for simplicity\n",
    "        energy = row.true_energy / 2\n",
    "        \n",
    "        node_energy[src_osm] = node_energy.get(src_osm, 0) + energy\n",
    "        node_energy[dst_osm] = node_energy.get(dst_osm, 0) + energy\n",
    "    \n",
    "    # Calculate node sizes based on energy usage\n",
    "    node_sizes = {}\n",
    "    if node_energy:\n",
    "        max_energy = max(node_energy.values()) or 1\n",
    "        for node, energy in node_energy.items():\n",
    "            # Scale node sizes between 5 and 50\n",
    "            node_sizes[node] = 5 + (energy / max_energy) * 45\n",
    "    \n",
    "    # Make a copy of the graph for visualization\n",
    "    G_vis = G_nx.copy()\n",
    "    \n",
    "    # Set node sizes\n",
    "    nx.set_node_attributes(G_vis, {node: {'size': node_sizes.get(node, 5)} \n",
    "                             for node in G_vis.nodes()})\n",
    "    \n",
    "    # Plot with OSMNX\n",
    "    try:\n",
    "        fig, ax = plt.subplots(figsize=(12, 10))\n",
    "        node_size = [G_vis.nodes[node].get('size', 5) for node in G_vis.nodes()]\n",
    "        \n",
    "        # Create a subgraph with fewer nodes for visibility\n",
    "        if len(G_vis) > 1000:\n",
    "            # Keep only the nodes with significant energy\n",
    "            significant_nodes = [node for node, energy in node_energy.items() \n",
    "                                if energy > (sum(node_energy.values()) / len(node_energy)) * 0.5]\n",
    "            if len(significant_nodes) > 5:  # Make sure we have enough nodes\n",
    "                G_vis = G_nx.subgraph(significant_nodes).copy()\n",
    "                node_size = [G_vis.nodes[node].get('size', 5) for node in G_vis.nodes()]\n",
    "        \n",
    "        # Plot with OSMnx's plot function\n",
    "        ox.plot_graph(\n",
    "            G_vis, \n",
    "            ax=ax,\n",
    "            node_size=node_size,\n",
    "            node_color='r',\n",
    "            edge_color='#333333',\n",
    "            edge_linewidth=0.5,\n",
    "            node_alpha=0.6\n",
    "        )\n",
    "        \n",
    "        plt.title('Road Network with Node Sizes Representing Energy Consumption')\n",
    "        plt.tight_layout()\n",
    "        plt.savefig('network_energy_visualization.png', dpi=300)\n",
    "        plt.close()\n",
    "        print(\"Network visualization saved as 'network_energy_visualization.png'\")\n",
    "    except Exception as e:\n",
    "        print(f\"Could not create network visualization: {e}\")\n",
    "\n",
    "# Run all visualizations\n",
    "def run_all_visualizations():\n",
    "    print(\"Generating visualizations...\")\n",
    "    # Load the model\n",
    "    model = GNNPathEnergyPredictor(\n",
    "        node_dim=graph.x.shape[1],\n",
    "        edge_dim=graph.edge_attr.shape[1]\n",
    "    ).to(DEVICE)\n",
    "    \n",
    "    result_data = {}\n",
    "    \n",
    "    # Run each visualization in try-except blocks\n",
    "    print(\"\\n1. Visualizing paths on map...\")\n",
    "    try:\n",
    "        vis_map = visualize_paths_on_map(G_nx, idx2osm, model, graph, val_loader)\n",
    "    except Exception as e:\n",
    "        print(f\"Error in path visualization: {e}\")\n",
    "    \n",
    "    print(\"\\n2. Creating prediction scatter plot...\")\n",
    "    try:\n",
    "        true_e, pred_e = plot_prediction_scatter(model, graph, val_loader)\n",
    "        result_data[\"true_vs_pred\"] = (true_e, pred_e)\n",
    "    except Exception as e:\n",
    "        print(f\"Error in prediction scatter plot: {e}\")\n",
    "    \n",
    "    print(\"\\n3. Visualizing edge features...\")\n",
    "    try:\n",
    "        visualize_edge_features(G_nx, graph, model)\n",
    "    except Exception as e:\n",
    "        print(f\"Error in edge feature visualization: {e}\")\n",
    "    \n",
    "    print(\"\\n4. Creating energy consumption heatmap...\")\n",
    "    try:\n",
    "        heat_map = create_energy_heatmap(G_nx, idx2osm, val_loader, trips_df)\n",
    "    except Exception as e:\n",
    "        print(f\"Error in energy heatmap creation: {e}\")\n",
    "    \n",
    "    print(\"\\n5. Plotting path length vs. energy...\")\n",
    "    try:\n",
    "        path_lengths, path_energies = plot_path_length_vs_energy(G_nx, idx2osm, trips_df)\n",
    "        result_data[\"path_vs_energy\"] = (path_lengths, path_energies)\n",
    "    except Exception as e:\n",
    "        print(f\"Error in path length vs energy plot: {e}\")\n",
    "    \n",
    "    print(\"\\n6. Creating network visualization...\")\n",
    "    try:\n",
    "        visualize_network_with_energy(G_nx, idx2osm, trips_df)\n",
    "    except Exception as e:\n",
    "        print(f\"Error in network visualization: {e}\")\n",
    "    \n",
    "    print(\"\\nVisualizations completed! Check for generated files.\")\n",
    "    \n",
    "    return result_data\n",
    "\n",
    "# Call the main function to generate all visualizations\n",
    "if __name__ == \"__main__\":\n",
    "    run_all_visualizations()"
   ]
  },
  {
   "cell_type": "code",
   "execution_count": null,
   "id": "17ac6859-8d75-40b4-ba10-9fa3f80b0ccc",
   "metadata": {},
   "outputs": [],
   "source": []
  }
 ],
 "metadata": {
  "kernelspec": {
   "display_name": "Python 3 (ipykernel)",
   "language": "python",
   "name": "python3"
  },
  "language_info": {
   "codemirror_mode": {
    "name": "ipython",
    "version": 3
   },
   "file_extension": ".py",
   "mimetype": "text/x-python",
   "name": "python",
   "nbconvert_exporter": "python",
   "pygments_lexer": "ipython3",
   "version": "3.11.11"
  }
 },
 "nbformat": 4,
 "nbformat_minor": 5
}
